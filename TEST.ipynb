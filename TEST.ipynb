{
 "cells": [
  {
   "cell_type": "code",
   "execution_count": 795,
   "metadata": {},
   "outputs": [],
   "source": [
    "import re \n",
    "import statistics\n",
    "import psycopg2 as pg2\n",
    "with open('C:\\\\Users\\\\ADMIN\\\\Desktop\\\\python_class_test.html', 'r') as file:\n",
    "    col = file.read()"
   ]
  },
  {
   "cell_type": "code",
   "execution_count": 796,
   "metadata": {},
   "outputs": [
    {
     "data": {
      "text/plain": [
       "'<html>\\n<head>\\n<title>Our Python Class exam</title>\\n\\n<style type=\"text/css\">\\n\\t\\n\\tbody{\\n\\t\\twidth:1000px;\\n\\t\\tmargin: auto;\\n\\t}\\n\\ttable,tr,td{\\n\\t\\tborder:solid;\\n\\t\\tpadding: 5px;\\n\\t}\\n\\ttable{\\n\\t\\tborder-collapse: collapse;\\n\\t\\twidth:100%;\\n\\t}\\n\\th3{\\n\\t\\tfont-size: 25px;\\n\\t\\tcolor:green;\\n\\t\\ttext-align: center;\\n\\t\\tmargin-top: 100px;\\n\\t}\\n\\tp{\\n\\t\\tfont-size: 18px;\\n\\t\\tfont-weight: bold;\\n\\t}\\n</style>\\n\\n</head>\\n<body>\\n<h3>TABLE SHOWING COLOURS OF DRESS BY WORKERS AT BINCOM ICT FOR THE WEEK</h3>\\n<table>\\n\\t\\n\\t<thead>\\n\\t\\t<th>DAY</th><th>COLOURS</th>\\n\\t</thead>\\n\\t<tbody>\\n\\t<tr>\\n\\t\\t<td>MONDAY</td>\\n\\t\\t<td> GREEN, YELLOW, GREEN, BROWN, BLUE, PINK, BLUE, YELLOW, ORANGE, CREAM, ORANGE, RED, WHITE, BLUE, WHITE, BLUE, BLUE, BLUE, GREEN</td>\\n\\t</tr>\\n\\t<tr>\\n\\t\\t<td>TUESDAY</td>\\n\\t\\t<td> ARSH, BROWN, GREEN, BROWN, BLUE, BLUE, BLEW, PINK, PINK, ORANGE, ORANGE, RED, WHITE, BLUE, WHITE, WHITE, BLUE, BLUE, BLUE</td>\\n\\t</tr>\\n\\t<tr>\\n\\t\\t<td>WEDNESDAY</td>\\n\\t\\t<td> GREEN, YELLOW, GREEN, BROWN, BLUE, PINK, RED, YELLOW, ORANGE, RED, ORANGE, RED, BLUE, BLUE, WHITE, BLUE, BLUE, WHITE, WHITE</td>\\n\\t</tr>\\n\\t<tr>\\n\\t\\t<td>THURSDAY</td>\\n\\t\\t<td> BLUE, BLUE, GREEN, WHITE, BLUE, BROWN, PINK, YELLOW, ORANGE, CREAM, ORANGE, RED, WHITE, BLUE, WHITE, BLUE, BLUE, BLUE, GREEN</td>\\n\\t</tr>\\n\\t<tr>\\n\\t\\t<td>FRIDAY</td>\\n\\t\\t<td> GREEN, WHITE, GREEN, BROWN, BLUE, BLUE, BLACK, WHITE, ORANGE, RED, RED, RED, WHITE, BLUE, WHITE, BLUE, BLUE, BLUE, WHITE</td>\\n\\t</tr>\\n\\n\\t</tbody>\\n</table>\\n\\n<p>Examine the sequence below very well, you will discover that for every 1s that appear 3 times, the output will be one, otherwise the output will be 0.</p>\\n<p>0101101011101011011101101000111 <span style=\"color:orange;\">Input</span></p>\\n<p>0000000000100000000100000000001 <span style=\"color:orange;\">Output</span></p>\\n<p>\\n</body>\\n</html>\\n'"
      ]
     },
     "execution_count": 796,
     "metadata": {},
     "output_type": "execute_result"
    }
   ],
   "source": [
    "col\n"
   ]
  },
  {
   "cell_type": "code",
   "execution_count": 797,
   "metadata": {},
   "outputs": [],
   "source": [
    "data = re.findall(r'<td>(.{10,}),*</td>', col)"
   ]
  },
  {
   "cell_type": "code",
   "execution_count": 798,
   "metadata": {},
   "outputs": [
    {
     "data": {
      "text/plain": [
       "[' GREEN, YELLOW, GREEN, BROWN, BLUE, PINK, BLUE, YELLOW, ORANGE, CREAM, ORANGE, RED, WHITE, BLUE, WHITE, BLUE, BLUE, BLUE, GREEN',\n",
       " ' ARSH, BROWN, GREEN, BROWN, BLUE, BLUE, BLEW, PINK, PINK, ORANGE, ORANGE, RED, WHITE, BLUE, WHITE, WHITE, BLUE, BLUE, BLUE',\n",
       " ' GREEN, YELLOW, GREEN, BROWN, BLUE, PINK, RED, YELLOW, ORANGE, RED, ORANGE, RED, BLUE, BLUE, WHITE, BLUE, BLUE, WHITE, WHITE',\n",
       " ' BLUE, BLUE, GREEN, WHITE, BLUE, BROWN, PINK, YELLOW, ORANGE, CREAM, ORANGE, RED, WHITE, BLUE, WHITE, BLUE, BLUE, BLUE, GREEN',\n",
       " ' GREEN, WHITE, GREEN, BROWN, BLUE, BLUE, BLACK, WHITE, ORANGE, RED, RED, RED, WHITE, BLUE, WHITE, BLUE, BLUE, BLUE, WHITE']"
      ]
     },
     "execution_count": 798,
     "metadata": {},
     "output_type": "execute_result"
    }
   ],
   "source": [
    "data\n"
   ]
  },
  {
   "cell_type": "code",
   "execution_count": 799,
   "metadata": {},
   "outputs": [],
   "source": [
    "newdata =','.join(data)"
   ]
  },
  {
   "cell_type": "code",
   "execution_count": 800,
   "metadata": {},
   "outputs": [],
   "source": [
    "cdata = newdata.split(',')"
   ]
  },
  {
   "cell_type": "code",
   "execution_count": 801,
   "metadata": {},
   "outputs": [
    {
     "data": {
      "text/plain": [
       "1"
      ]
     },
     "execution_count": 801,
     "metadata": {},
     "output_type": "execute_result"
    }
   ],
   "source": [
    "cdata.count(' BLEW')"
   ]
  },
  {
   "cell_type": "code",
   "execution_count": 802,
   "metadata": {},
   "outputs": [],
   "source": [
    "unique = []\n",
    "for i in cdata:\n",
    "    if i not in unique:\n",
    "        unique.append(i)"
   ]
  },
  {
   "cell_type": "code",
   "execution_count": 803,
   "metadata": {},
   "outputs": [
    {
     "data": {
      "text/plain": [
       "[' GREEN',\n",
       " ' YELLOW',\n",
       " ' BROWN',\n",
       " ' BLUE',\n",
       " ' PINK',\n",
       " ' ORANGE',\n",
       " ' CREAM',\n",
       " ' RED',\n",
       " ' WHITE',\n",
       " ' ARSH',\n",
       " ' BLEW',\n",
       " ' BLACK']"
      ]
     },
     "execution_count": 803,
     "metadata": {},
     "output_type": "execute_result"
    }
   ],
   "source": [
    "unique"
   ]
  },
  {
   "cell_type": "code",
   "execution_count": 804,
   "metadata": {},
   "outputs": [],
   "source": [
    "frequency = []\n",
    "for i in unique:\n",
    "    x = cdata.count(i)\n",
    "    frequency.append(x)"
   ]
  },
  {
   "cell_type": "code",
   "execution_count": 784,
   "metadata": {},
   "outputs": [],
   "source": [
    "dic = dict(zip(unique,frequency))"
   ]
  },
  {
   "cell_type": "code",
   "execution_count": 785,
   "metadata": {},
   "outputs": [
    {
     "data": {
      "text/plain": [
       "{' GREEN': 10,\n",
       " ' YELLOW': 5,\n",
       " ' BROWN': 6,\n",
       " ' BLUE': 30,\n",
       " ' PINK': 5,\n",
       " ' ORANGE': 9,\n",
       " ' CREAM': 2,\n",
       " ' RED': 9,\n",
       " ' WHITE': 16,\n",
       " ' ARSH': 1,\n",
       " ' BLEW': 1,\n",
       " ' BLACK': 1}"
      ]
     },
     "execution_count": 785,
     "metadata": {},
     "output_type": "execute_result"
    }
   ],
   "source": [
    "dic"
   ]
  },
  {
   "cell_type": "code",
   "execution_count": null,
   "metadata": {},
   "outputs": [],
   "source": [
    "\n",
    "        "
   ]
  },
  {
   "cell_type": "code",
   "execution_count": 786,
   "metadata": {},
   "outputs": [],
   "source": [
    "uniqueindex=[]\n",
    "for col in unique:\n",
    "    uniqueindex.append(unique.index(col)+1) #index positions of colors"
   ]
  },
  {
   "cell_type": "code",
   "execution_count": 787,
   "metadata": {},
   "outputs": [],
   "source": [
    "frequni=[]\n",
    "for i in range(len(frequency)):\n",
    "    frequni.append(uniqueindex[i] * frequency[i]) #product of the indexes of the and the colour indexes"
   ]
  },
  {
   "cell_type": "code",
   "execution_count": 788,
   "metadata": {},
   "outputs": [],
   "source": [
    "mean_index = round((sum(frequni)/sum(frequency)-1)) # the index of the mean color"
   ]
  },
  {
   "cell_type": "code",
   "execution_count": 789,
   "metadata": {},
   "outputs": [],
   "source": [
    "#1 Mean\n",
    "mean = unique[mean_index]"
   ]
  },
  {
   "cell_type": "code",
   "execution_count": 790,
   "metadata": {},
   "outputs": [
    {
     "data": {
      "text/plain": [
       "' PINK'"
      ]
     },
     "execution_count": 790,
     "metadata": {},
     "output_type": "execute_result"
    }
   ],
   "source": [
    "mean"
   ]
  },
  {
   "cell_type": "code",
   "execution_count": 791,
   "metadata": {},
   "outputs": [
    {
     "name": "stdout",
     "output_type": "stream",
     "text": [
      " BLUE\n"
     ]
    }
   ],
   "source": [
    "#2 Mostly Worn\n",
    "maximum = max(frequency)\n",
    "for unique,frequency in dic.items():\n",
    "    if frequency == maximum:\n",
    "        print(unique)\n"
   ]
  },
  {
   "cell_type": "code",
   "execution_count": 792,
   "metadata": {},
   "outputs": [
    {
     "data": {
      "text/plain": [
       "' GREEN'"
      ]
     },
     "execution_count": 792,
     "metadata": {},
     "output_type": "execute_result"
    }
   ],
   "source": [
    "#3 Median color\n",
    "statistics.median(cdata)"
   ]
  },
  {
   "cell_type": "code",
   "execution_count": 856,
   "metadata": {},
   "outputs": [],
   "source": [
    "#The Variance"
   ]
  },
  {
   "cell_type": "code",
   "execution_count": 813,
   "metadata": {},
   "outputs": [
    {
     "name": "stdout",
     "output_type": "stream",
     "text": [
      "0.09473684210526316\n"
     ]
    }
   ],
   "source": [
    "#5 Probability\n",
    "prob = cdata.count(' RED')/ sum(frequency)\n",
    "print(prob)"
   ]
  },
  {
   "cell_type": "code",
   "execution_count": null,
   "metadata": {},
   "outputs": [],
   "source": []
  },
  {
   "cell_type": "code",
   "execution_count": 733,
   "metadata": {},
   "outputs": [
    {
     "name": "stdout",
     "output_type": "stream",
     "text": [
      "Opened database succesfully\n",
      "Table created succesfully\n",
      "Insert done succesfully\n"
     ]
    }
   ],
   "source": [
    "#6\n",
    "try:\n",
    "    conn = pg2.connect(database = 'Test', user = 'postgres', password = 'Edoziemas8*')\n",
    "    print('Opened database succesfully')\n",
    "\n",
    "except:\n",
    "    print('Couldn\\'t connect to databse')\n",
    "\n",
    "cur = conn.cursor()\n",
    "\n",
    "cur.execute('''create table if not exists colors\n",
    "(id serial primary key not null,\n",
    "color varchar(50) not null,\n",
    "frequency int not null);\n",
    "''')\n",
    "\n",
    "print('Table created succesfully')\n",
    "for unique,frequency in dic.items():\n",
    "    cur.execute('insert into colors(color,frequency) values(%s,%s)',(unique,frequency))\n",
    "\n",
    "conn.commit()\n",
    "print('Insert done succesfully')\n",
    "\n"
   ]
  },
  {
   "cell_type": "code",
   "execution_count": null,
   "metadata": {},
   "outputs": [],
   "source": []
  },
  {
   "cell_type": "code",
   "execution_count": 745,
   "metadata": {},
   "outputs": [
    {
     "name": "stdout",
     "output_type": "stream",
     "text": [
      "Found at  1\n"
     ]
    }
   ],
   "source": [
    "#7 Implementation of Binary Search\n",
    "pos = -1\n",
    "def search(lst,num):\n",
    "    lower = 0\n",
    "    upper = len(lst) - 1\n",
    "    while lower <= upper:\n",
    "        mid = (lower + upper) // 2\n",
    "        if lst[mid] == num:\n",
    "            globals()['pos'] = mid\n",
    "            return True\n",
    "        else:\n",
    "            if lst[mid] < num:\n",
    "                lower = mid + 1\n",
    "            else:\n",
    "                upper = mid\n",
    "\n",
    "lst = [2,4,6,7,8,9]\n",
    "num = 2\n",
    "\n",
    "if search(lst,num):\n",
    "    print('Found at ', pos+1)\n",
    "else:\n",
    "    print('Not found')"
   ]
  },
  {
   "cell_type": "code",
   "execution_count": 853,
   "metadata": {},
   "outputs": [
    {
     "name": "stdout",
     "output_type": "stream",
     "text": [
      "[1, 1, 0, 1]\n",
      "The decimal val is  13\n"
     ]
    }
   ],
   "source": [
    "#8 Binary to Decimal\n",
    "import random\n",
    "bi = []\n",
    "for i in range(4):\n",
    "    bi.append(random.randint(0,1)) #generate four 0s and 1s randomly and appends to the list\n",
    "print(bi)\n",
    "decimal = 0\n",
    "for digit in bi:\n",
    "    decimal = decimal*2 +int(digit)\n",
    "print('The decimal val is ', decimal)\n"
   ]
  },
  {
   "cell_type": "code",
   "execution_count": 746,
   "metadata": {},
   "outputs": [
    {
     "name": "stdout",
     "output_type": "stream",
     "text": [
      "20365011073\n"
     ]
    }
   ],
   "source": [
    "#9 Sum of the first fifty Fibonacci Sequence\n",
    "def fibonacci_generator(n):\n",
    "        if n==1:\n",
    "                sequence = [0]\n",
    "        elif n==2:\n",
    "                sequence = [0,1]\n",
    "        \n",
    "        else:\n",
    "                sequence = [0,1]\n",
    "                for i in range(2,n):\n",
    "                        sequence.append(sequence[(len(sequence)-2)] + sequence[(len(sequence) - 1)])\n",
    "        return sequence\n",
    "add = sum((fibonacci_generator(50)))\n",
    "print (add)"
   ]
  },
  {
   "cell_type": "code",
   "execution_count": 855,
   "metadata": {},
   "outputs": [
    {
     "data": {
      "text/plain": [
       "4"
      ]
     },
     "execution_count": 855,
     "metadata": {},
     "output_type": "execute_result"
    }
   ],
   "source": []
  },
  {
   "cell_type": "code",
   "execution_count": null,
   "metadata": {},
   "outputs": [],
   "source": []
  }
 ],
 "metadata": {
  "kernelspec": {
   "display_name": "Python 3",
   "language": "python",
   "name": "python3"
  },
  "language_info": {
   "codemirror_mode": {
    "name": "ipython",
    "version": 3
   },
   "file_extension": ".py",
   "mimetype": "text/x-python",
   "name": "python",
   "nbconvert_exporter": "python",
   "pygments_lexer": "ipython3",
   "version": "3.7.3"
  }
 },
 "nbformat": 4,
 "nbformat_minor": 2
}
